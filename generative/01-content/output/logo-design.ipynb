{
 "cells": [
  {
   "cell_type": "markdown",
   "id": "bd03ae2f",
   "metadata": {},
   "source": [
    "# Logo Design for Reiz I.T. Solutions B.V.\n",
    "This notebook generates five logo options for Reiz I.T. Solutions B.V. using the Pillow library."
   ]
  },
  {
   "cell_type": "code",
   "execution_count": 1,
   "id": "ecd3e888",
   "metadata": {},
   "outputs": [],
   "source": [
    "from PIL import Image, ImageDraw, ImageFont\n",
    "import os\n",
    "\n",
    "# Create output directory if it doesn't exist\n",
    "output_dir = 'generative/01-content/output/'\n",
    "os.makedirs(output_dir, exist_ok=True)\n",
    "\n",
    "# Define logo dimensions\n",
    "width, height = 400, 200\n",
    "\n",
    "# Generate five logo options\n",
    "for i in range(1, 6):\n",
    "    # Create a blank image with white background\n",
    "    image = Image.new('RGB', (width, height), 'white')\n",
    "    draw = ImageDraw.Draw(image)\n",
    "\n",
    "    # Draw a rectangle and add text\n",
    "    draw.rectangle([(50, 50), (350, 150)], outline='black', width=3)\n",
    "    draw.text((100, 90), f'Reiz Logo {i}', fill='black')\n",
    "\n",
    "    # Save the logo\n",
    "    image.save(os.path.join(output_dir, f'logo_option_{i}.jpeg'))"
   ]
  }
 ],
 "metadata": {
  "kernelspec": {
   "display_name": "reiz_env",
   "language": "python",
   "name": "python3"
  },
  "language_info": {
   "codemirror_mode": {
    "name": "ipython",
    "version": 3
   },
   "file_extension": ".py",
   "mimetype": "text/x-python",
   "name": "python",
   "nbconvert_exporter": "python",
   "pygments_lexer": "ipython3",
   "version": "3.12.3"
  }
 },
 "nbformat": 4,
 "nbformat_minor": 5
}
